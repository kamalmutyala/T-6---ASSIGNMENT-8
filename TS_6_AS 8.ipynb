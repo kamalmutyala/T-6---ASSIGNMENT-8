{
 "cells": [
  {
   "cell_type": "markdown",
   "metadata": {},
   "source": [
    "# Assignment8"
   ]
  },
  {
   "cell_type": "code",
   "execution_count": 2,
   "metadata": {},
   "outputs": [],
   "source": [
    "import pandas as pd\n",
    "import matplotlib.pyplot as plt\n",
    "import numpy as np\n",
    "from sklearn import linear_model\n",
    "from sklearn.linear_model import LinearRegression\n",
    "from sklearn.model_selection import train_test_split\n",
    "from sklearn import metrics "
   ]
  },
  {
   "cell_type": "markdown",
   "metadata": {},
   "source": [
    "# How Much is Your Car Worth?\n",
    "\n",
    "Data about the retail price of 2005 General Motors cars can be found in `car_data.csv`.\n",
    "\n",
    "The columns are:\n",
    "\n",
    "1. Price: suggested retail price of the used 2005 GM car in excellent condition.\n",
    "2. Mileage: number of miles the car has been driven\n",
    "3. Make: manufacturer of the car such as Saturn, Pontiac, and Chevrolet\n",
    "4. Model: specific models for each car manufacturer such as Ion, Vibe, Cavalier\n",
    "5. Trim (of car): specific type of car model such as SE Sedan 4D, Quad Coupe 2D          \n",
    "6. Type: body type such as sedan, coupe, etc.      \n",
    "7. Cylinder: number of cylinders in the engine        \n",
    "8. Liter: a more specific measure of engine size     \n",
    "9. Doors: number of doors           \n",
    "10. Cruise: indicator variable representing whether the car has cruise control (1 = cruise)\n",
    "11. Sound: indicator variable representing whether the car has upgraded speakers (1 = upgraded)\n",
    "12. Leather: indicator variable representing whether the car has leather seats (1 = leather)\n",
    "\n",
    "## Tasks, Part 1\n",
    "\n",
    "1. Find the linear regression equation for mileage vs price.\n",
    "2. Chart the original data and the equation on the chart.\n",
    "3. Find the equation's $R^2$ score (use the `.score` method) to determine whether the\n",
    "equation is a good fit for this data. (0.8 and greater is considered a strong correlation.)\n",
    "\n",
    "## Tasks, Part 2\n",
    "\n",
    "1. Use mileage, cylinders, liters, doors, cruise, sound, and leather to find the linear regression equation.\n",
    "2. Find the equation's $R^2$ score (use the `.score` method) to determine whether the\n",
    "equation is a good fit for this data. (0.8 and greater is considered a strong correlation.)\n",
    "3. Find the combination of the factors that is the best predictor for price.\n",
    "\n",
    "## Tasks, Hard Mode\n",
    "\n",
    "1. Research dummy variables in scikit-learn to see how to use the make, model, and body type.\n",
    "2. Find the best combination of factors to predict price."
   ]
  },
  {
   "cell_type": "code",
   "execution_count": 3,
   "metadata": {},
   "outputs": [
    {
     "data": {
      "text/html": [
       "<div>\n",
       "<style scoped>\n",
       "    .dataframe tbody tr th:only-of-type {\n",
       "        vertical-align: middle;\n",
       "    }\n",
       "\n",
       "    .dataframe tbody tr th {\n",
       "        vertical-align: top;\n",
       "    }\n",
       "\n",
       "    .dataframe thead th {\n",
       "        text-align: right;\n",
       "    }\n",
       "</style>\n",
       "<table border=\"1\" class=\"dataframe\">\n",
       "  <thead>\n",
       "    <tr style=\"text-align: right;\">\n",
       "      <th></th>\n",
       "      <th>Price</th>\n",
       "      <th>Mileage</th>\n",
       "      <th>Make</th>\n",
       "      <th>Model</th>\n",
       "      <th>Trim</th>\n",
       "      <th>Type</th>\n",
       "      <th>Cylinder</th>\n",
       "      <th>Liter</th>\n",
       "      <th>Doors</th>\n",
       "      <th>Cruise</th>\n",
       "      <th>Sound</th>\n",
       "      <th>Leather</th>\n",
       "    </tr>\n",
       "  </thead>\n",
       "  <tbody>\n",
       "    <tr>\n",
       "      <th>0</th>\n",
       "      <td>17314.103129</td>\n",
       "      <td>8221</td>\n",
       "      <td>Buick</td>\n",
       "      <td>Century</td>\n",
       "      <td>Sedan 4D</td>\n",
       "      <td>Sedan</td>\n",
       "      <td>6</td>\n",
       "      <td>3.1</td>\n",
       "      <td>4</td>\n",
       "      <td>1</td>\n",
       "      <td>1</td>\n",
       "      <td>1</td>\n",
       "    </tr>\n",
       "    <tr>\n",
       "      <th>1</th>\n",
       "      <td>17542.036083</td>\n",
       "      <td>9135</td>\n",
       "      <td>Buick</td>\n",
       "      <td>Century</td>\n",
       "      <td>Sedan 4D</td>\n",
       "      <td>Sedan</td>\n",
       "      <td>6</td>\n",
       "      <td>3.1</td>\n",
       "      <td>4</td>\n",
       "      <td>1</td>\n",
       "      <td>1</td>\n",
       "      <td>0</td>\n",
       "    </tr>\n",
       "    <tr>\n",
       "      <th>2</th>\n",
       "      <td>16218.847862</td>\n",
       "      <td>13196</td>\n",
       "      <td>Buick</td>\n",
       "      <td>Century</td>\n",
       "      <td>Sedan 4D</td>\n",
       "      <td>Sedan</td>\n",
       "      <td>6</td>\n",
       "      <td>3.1</td>\n",
       "      <td>4</td>\n",
       "      <td>1</td>\n",
       "      <td>1</td>\n",
       "      <td>0</td>\n",
       "    </tr>\n",
       "    <tr>\n",
       "      <th>3</th>\n",
       "      <td>16336.913140</td>\n",
       "      <td>16342</td>\n",
       "      <td>Buick</td>\n",
       "      <td>Century</td>\n",
       "      <td>Sedan 4D</td>\n",
       "      <td>Sedan</td>\n",
       "      <td>6</td>\n",
       "      <td>3.1</td>\n",
       "      <td>4</td>\n",
       "      <td>1</td>\n",
       "      <td>0</td>\n",
       "      <td>0</td>\n",
       "    </tr>\n",
       "    <tr>\n",
       "      <th>4</th>\n",
       "      <td>16339.170324</td>\n",
       "      <td>19832</td>\n",
       "      <td>Buick</td>\n",
       "      <td>Century</td>\n",
       "      <td>Sedan 4D</td>\n",
       "      <td>Sedan</td>\n",
       "      <td>6</td>\n",
       "      <td>3.1</td>\n",
       "      <td>4</td>\n",
       "      <td>1</td>\n",
       "      <td>0</td>\n",
       "      <td>1</td>\n",
       "    </tr>\n",
       "  </tbody>\n",
       "</table>\n",
       "</div>"
      ],
      "text/plain": [
       "          Price  Mileage   Make    Model      Trim   Type  Cylinder  Liter  \\\n",
       "0  17314.103129     8221  Buick  Century  Sedan 4D  Sedan         6    3.1   \n",
       "1  17542.036083     9135  Buick  Century  Sedan 4D  Sedan         6    3.1   \n",
       "2  16218.847862    13196  Buick  Century  Sedan 4D  Sedan         6    3.1   \n",
       "3  16336.913140    16342  Buick  Century  Sedan 4D  Sedan         6    3.1   \n",
       "4  16339.170324    19832  Buick  Century  Sedan 4D  Sedan         6    3.1   \n",
       "\n",
       "   Doors  Cruise  Sound  Leather  \n",
       "0      4       1      1        1  \n",
       "1      4       1      1        0  \n",
       "2      4       1      1        0  \n",
       "3      4       1      0        0  \n",
       "4      4       1      0        1  "
      ]
     },
     "execution_count": 3,
     "metadata": {},
     "output_type": "execute_result"
    }
   ],
   "source": [
    "#load CSV\n",
    "df = pd.read_csv(\"C:/Users/lenovo/Downloads/car_data.csv\")\n",
    "df.head()"
   ]
  },
  {
   "cell_type": "code",
   "execution_count": 4,
   "metadata": {},
   "outputs": [
    {
     "data": {
      "text/plain": [
       "(804, 12)"
      ]
     },
     "execution_count": 4,
     "metadata": {},
     "output_type": "execute_result"
    }
   ],
   "source": [
    "#find the no.of rows and columns\n",
    "df.shape"
   ]
  },
  {
   "cell_type": "code",
   "execution_count": 5,
   "metadata": {},
   "outputs": [
    {
     "name": "stdout",
     "output_type": "stream",
     "text": [
      "<class 'pandas.core.frame.DataFrame'>\n",
      "RangeIndex: 804 entries, 0 to 803\n",
      "Data columns (total 12 columns):\n",
      " #   Column    Non-Null Count  Dtype  \n",
      "---  ------    --------------  -----  \n",
      " 0   Price     804 non-null    float64\n",
      " 1   Mileage   804 non-null    int64  \n",
      " 2   Make      804 non-null    object \n",
      " 3   Model     804 non-null    object \n",
      " 4   Trim      804 non-null    object \n",
      " 5   Type      804 non-null    object \n",
      " 6   Cylinder  804 non-null    int64  \n",
      " 7   Liter     804 non-null    float64\n",
      " 8   Doors     804 non-null    int64  \n",
      " 9   Cruise    804 non-null    int64  \n",
      " 10  Sound     804 non-null    int64  \n",
      " 11  Leather   804 non-null    int64  \n",
      "dtypes: float64(2), int64(6), object(4)\n",
      "memory usage: 75.5+ KB\n"
     ]
    }
   ],
   "source": [
    "#info about the dataset\n",
    "df.info()"
   ]
  },
  {
   "cell_type": "code",
   "execution_count": 6,
   "metadata": {},
   "outputs": [
    {
     "data": {
      "text/plain": [
       "Price       0\n",
       "Mileage     0\n",
       "Make        0\n",
       "Model       0\n",
       "Trim        0\n",
       "Type        0\n",
       "Cylinder    0\n",
       "Liter       0\n",
       "Doors       0\n",
       "Cruise      0\n",
       "Sound       0\n",
       "Leather     0\n",
       "dtype: int64"
      ]
     },
     "execution_count": 6,
     "metadata": {},
     "output_type": "execute_result"
    }
   ],
   "source": [
    "# Finding the null values in dataset\n",
    "df.isnull().sum()"
   ]
  },
  {
   "cell_type": "markdown",
   "metadata": {},
   "source": [
    "# Tasks, Part 1"
   ]
  },
  {
   "cell_type": "code",
   "execution_count": 7,
   "metadata": {},
   "outputs": [],
   "source": [
    "#load dataset\n",
    "x=df[\"Mileage\"]\n",
    "y=df[\"Price\"]\n",
    "\n",
    "#split the data\n",
    "x_train, x_test, y_train, y_test = train_test_split(x, y, test_size = 0.2, random_state = 2)\n",
    "\n",
    "#reshape the data to fit the model\n",
    "x_train = x_train.values.reshape(-1, 1)\n",
    "x_test = x_test.values.reshape(-1, 1)\n",
    "y_train = y_train.values.reshape(-1, 1)\n",
    "y_test = y_test.values.reshape(-1, 1)\n",
    "\n",
    "# Fit the model\n",
    "mlr=LinearRegression()\n"
   ]
  },
  {
   "cell_type": "code",
   "execution_count": 8,
   "metadata": {},
   "outputs": [
    {
     "data": {
      "text/plain": [
       "array([[20593.46051025],\n",
       "       [20218.71888951],\n",
       "       [20526.25922288],\n",
       "       [20649.51479074],\n",
       "       [20674.36277269],\n",
       "       [20565.15402974],\n",
       "       [20659.99670176],\n",
       "       [20612.32262932],\n",
       "       [20585.5325674 ]])"
      ]
     },
     "execution_count": 8,
     "metadata": {},
     "output_type": "execute_result"
    }
   ],
   "source": [
    "#1.FIND THE LINEAR REGRESSION EQUATION FOR MILEAGE VS PRICE.\n",
    "\n",
    "mlr.fit(x_train, y_train)\n",
    "train_pred=mlr.predict(x_train)\n",
    "from sklearn import metrics\n",
    "error_score=metrics.r2_score(y_train,train_pred)\n",
    "#print(error_score)\n",
    "coe=mlr.coef_\n",
    "inter=mlr.intercept_\n",
    "#print(coe,inter)\n",
    "Y=(train_pred*coe)+inter\n",
    "#print(Y)\n",
    "error_score=metrics.r2_score(train_pred,Y)\n",
    "#print(error_score)\n",
    "mlr.fit(x_test,y_test)\n",
    "test_pred= mlr.predict(x_test)\n",
    "coe_test=mlr.coef_\n",
    "inter_test=mlr.intercept_\n",
    "Y_test=(test_pred*coe_test)+inter_test\n",
    "Y_test[1:10]"
   ]
  },
  {
   "cell_type": "code",
   "execution_count": 12,
   "metadata": {},
   "outputs": [
    {
     "data": {
      "text/plain": [
       "<matplotlib.collections.PathCollection at 0x2862ef52610>"
      ]
     },
     "execution_count": 12,
     "metadata": {},
     "output_type": "execute_result"
    },
    {
     "data": {
      "image/png": "[encoded data removed]",
      "text/plain": [
       "<Figure size 432x288 with 1 Axes>"
      ]
     },
     "metadata": {
      "needs_background": "light"
     },
     "output_type": "display_data"
    }
   ],
   "source": [
    "## 2. Chart the original data and the equation on the chart.\n",
    "plt.xlabel(\"Mileage\")\n",
    "plt.ylabel(\"Price\")\n",
    "plt.scatter(x_test,y_test,color=\"red\",marker=\"+\")#,figsize=(10,10))\n",
    "#plt.plot(x_test,Y_test,color=\"blue\")"
   ]
  },
  {
   "cell_type": "code",
   "execution_count": 10,
   "metadata": {},
   "outputs": [
    {
     "name": "stdout",
     "output_type": "stream",
     "text": [
      "0.04880945395008118\n"
     ]
    }
   ],
   "source": [
    "## 3.Find the equation's  𝑅2  score\n",
    "\n",
    "error_score_test=metrics.r2_score(x_test,Y_test)\n",
    "print(error_score_test)"
   ]
  },
  {
   "cell_type": "markdown",
   "metadata": {},
   "source": [
    "# Tasks, Part 2"
   ]
  },
  {
   "cell_type": "code",
   "execution_count": 79,
   "metadata": {},
   "outputs": [],
   "source": [
    "df.Mileage=df[\"Mileage\"]/1000 "
   ]
  },
  {
   "cell_type": "code",
   "execution_count": 13,
   "metadata": {},
   "outputs": [],
   "source": [
    "# load the dataset\n",
    "inde=df.drop([\"Make\",\"Model\", \"Trim\", \"Type\",\"Price\"],axis=1)\n",
    "dep= df[\"Price\"]\n",
    "\n",
    "# split the dataset\n",
    "i_train, i_test, d_train, d_test = train_test_split(inde, dep, test_size = 0.3, random_state = 3)\n",
    "\n",
    "# Model fitting\n",
    "\n",
    "mlr=LinearRegression()\n",
    "mlr.fit(i_train,d_train)\n",
    "pred_train=mlr.predict(i_train)\n",
    "error_score_train = metrics.r2_score(d_train,pred_train)\n",
    "mlr.fit(i_test,d_test)\n",
    "pred_test=mlr.predict(i_test)"
   ]
  },
  {
   "cell_type": "code",
   "execution_count": 14,
   "metadata": {},
   "outputs": [
    {
     "data": {
      "text/html": [
       "<div>\n",
       "<style scoped>\n",
       "    .dataframe tbody tr th:only-of-type {\n",
       "        vertical-align: middle;\n",
       "    }\n",
       "\n",
       "    .dataframe tbody tr th {\n",
       "        vertical-align: top;\n",
       "    }\n",
       "\n",
       "    .dataframe thead th {\n",
       "        text-align: right;\n",
       "    }\n",
       "</style>\n",
       "<table border=\"1\" class=\"dataframe\">\n",
       "  <thead>\n",
       "    <tr style=\"text-align: right;\">\n",
       "      <th></th>\n",
       "      <th>Mileage</th>\n",
       "      <th>Cylinder</th>\n",
       "      <th>Liter</th>\n",
       "      <th>Doors</th>\n",
       "      <th>Cruise</th>\n",
       "      <th>Sound</th>\n",
       "      <th>Leather</th>\n",
       "    </tr>\n",
       "  </thead>\n",
       "  <tbody>\n",
       "    <tr>\n",
       "      <th>123</th>\n",
       "      <td>3790.778234</td>\n",
       "      <td>39462.308081</td>\n",
       "      <td>-845.457526</td>\n",
       "      <td>-1.920289</td>\n",
       "      <td>12989.359396</td>\n",
       "      <td>3080.813188</td>\n",
       "      <td>9779.453734</td>\n",
       "    </tr>\n",
       "    <tr>\n",
       "      <th>648</th>\n",
       "      <td>1625.276368</td>\n",
       "      <td>22649.365192</td>\n",
       "      <td>2931.257160</td>\n",
       "      <td>-1.920289</td>\n",
       "      <td>12989.359396</td>\n",
       "      <td>5836.422302</td>\n",
       "      <td>5836.422302</td>\n",
       "    </tr>\n",
       "    <tr>\n",
       "      <th>720</th>\n",
       "      <td>4617.006101</td>\n",
       "      <td>22649.365192</td>\n",
       "      <td>2495.482388</td>\n",
       "      <td>-1.920289</td>\n",
       "      <td>12989.359396</td>\n",
       "      <td>5836.422302</td>\n",
       "      <td>9779.453734</td>\n",
       "    </tr>\n",
       "    <tr>\n",
       "      <th>623</th>\n",
       "      <td>4444.672490</td>\n",
       "      <td>22649.365192</td>\n",
       "      <td>3221.773674</td>\n",
       "      <td>-1.920289</td>\n",
       "      <td>5836.422302</td>\n",
       "      <td>5836.422302</td>\n",
       "      <td>5836.422302</td>\n",
       "    </tr>\n",
       "    <tr>\n",
       "      <th>612</th>\n",
       "      <td>3242.596122</td>\n",
       "      <td>22649.365192</td>\n",
       "      <td>3221.773674</td>\n",
       "      <td>-1.920289</td>\n",
       "      <td>5836.422302</td>\n",
       "      <td>5836.422302</td>\n",
       "      <td>9779.453734</td>\n",
       "    </tr>\n",
       "  </tbody>\n",
       "</table>\n",
       "</div>"
      ],
      "text/plain": [
       "         Mileage      Cylinder        Liter     Doors        Cruise  \\\n",
       "123  3790.778234  39462.308081  -845.457526 -1.920289  12989.359396   \n",
       "648  1625.276368  22649.365192  2931.257160 -1.920289  12989.359396   \n",
       "720  4617.006101  22649.365192  2495.482388 -1.920289  12989.359396   \n",
       "623  4444.672490  22649.365192  3221.773674 -1.920289   5836.422302   \n",
       "612  3242.596122  22649.365192  3221.773674 -1.920289   5836.422302   \n",
       "\n",
       "           Sound      Leather  \n",
       "123  3080.813188  9779.453734  \n",
       "648  5836.422302  5836.422302  \n",
       "720  5836.422302  9779.453734  \n",
       "623  5836.422302  5836.422302  \n",
       "612  5836.422302  9779.453734  "
      ]
     },
     "execution_count": 14,
     "metadata": {},
     "output_type": "execute_result"
    }
   ],
   "source": [
    "## 1. Use mileage, cylinders, liters, doors, cruise, sound, and leather to find the linear regression equation.\n",
    "\n",
    "#linear regression equation\n",
    "coe_test=mlr.coef_\n",
    "inter_test=mlr.intercept_\n",
    "Y_test=(i_test*coe_test)+inter_test\n",
    "Y_test.head()"
   ]
  },
  {
   "cell_type": "code",
   "execution_count": 82,
   "metadata": {},
   "outputs": [
    {
     "data": {
      "text/html": [
       "<div>\n",
       "<style scoped>\n",
       "    .dataframe tbody tr th:only-of-type {\n",
       "        vertical-align: middle;\n",
       "    }\n",
       "\n",
       "    .dataframe tbody tr th {\n",
       "        vertical-align: top;\n",
       "    }\n",
       "\n",
       "    .dataframe thead th {\n",
       "        text-align: right;\n",
       "    }\n",
       "</style>\n",
       "<table border=\"1\" class=\"dataframe\">\n",
       "  <thead>\n",
       "    <tr style=\"text-align: right;\">\n",
       "      <th></th>\n",
       "      <th>Actual value</th>\n",
       "      <th>Predicted value</th>\n",
       "    </tr>\n",
       "  </thead>\n",
       "  <tbody>\n",
       "    <tr>\n",
       "      <th>123</th>\n",
       "      <td>35165.759369</td>\n",
       "      <td>33236.801007</td>\n",
       "    </tr>\n",
       "    <tr>\n",
       "      <th>648</th>\n",
       "      <td>23249.841685</td>\n",
       "      <td>16847.648619</td>\n",
       "    </tr>\n",
       "    <tr>\n",
       "      <th>720</th>\n",
       "      <td>30800.658389</td>\n",
       "      <td>23346.635012</td>\n",
       "    </tr>\n",
       "    <tr>\n",
       "      <th>623</th>\n",
       "      <td>16706.674068</td>\n",
       "      <td>12804.624161</td>\n",
       "    </tr>\n",
       "    <tr>\n",
       "      <th>612</th>\n",
       "      <td>15977.911084</td>\n",
       "      <td>15545.579225</td>\n",
       "    </tr>\n",
       "  </tbody>\n",
       "</table>\n",
       "</div>"
      ],
      "text/plain": [
       "     Actual value  Predicted value\n",
       "123  35165.759369     33236.801007\n",
       "648  23249.841685     16847.648619\n",
       "720  30800.658389     23346.635012\n",
       "623  16706.674068     12804.624161\n",
       "612  15977.911084     15545.579225"
      ]
     },
     "execution_count": 82,
     "metadata": {},
     "output_type": "execute_result"
    }
   ],
   "source": [
    "mlr_diff = pd.DataFrame({'Actual value': d_test, 'Predicted value': pred_test})\n",
    "mlr_diff.head()"
   ]
  },
  {
   "cell_type": "code",
   "execution_count": 83,
   "metadata": {},
   "outputs": [
    {
     "data": {
      "text/plain": [
       "<matplotlib.collections.PathCollection at 0x18d32e8f730>"
      ]
     },
     "execution_count": 83,
     "metadata": {},
     "output_type": "execute_result"
    },
    {
     "data": {
      "image/png": "[encoded data removed]",
      "text/plain": [
       "<Figure size 432x288 with 1 Axes>"
      ]
     },
     "metadata": {
      "needs_background": "light"
     },
     "output_type": "display_data"
    }
   ],
   "source": [
    "plt.scatter(d_test,pred_test)"
   ]
  },
  {
   "cell_type": "code",
   "execution_count": 85,
   "metadata": {},
   "outputs": [
    {
     "name": "stdout",
     "output_type": "stream",
     "text": [
      "0.5083639932121422\n"
     ]
    }
   ],
   "source": [
    "## 2.  Find the equation's  𝑅2  score \n",
    "#error_score\n",
    "error_score_test=metrics.r2_score(d_test,pred_test)\n",
    "print(error_score_test)"
   ]
  },
  {
   "cell_type": "code",
   "execution_count": 86,
   "metadata": {},
   "outputs": [
    {
     "name": "stdout",
     "output_type": "stream",
     "text": [
      "Cylinder    0.569086\n",
      "Liter       0.558146\n",
      "Cruise      0.430851\n",
      "Name: Price, dtype: float64\n"
     ]
    }
   ],
   "source": [
    "## 3. Find the combination of the factors that is the best predictor for price.\n",
    "\n",
    "corr = df.corr()[\"Price\"].sort_values(ascending=False)[1:]\n",
    "#print(corr)\n",
    "abs_corr = abs(corr)\n",
    "relevant_features = abs_corr[abs_corr>0.4]\n",
    "print(relevant_features)\n"
   ]
  },
  {
   "cell_type": "markdown",
   "metadata": {},
   "source": [
    "#  Tasks, Hard mode"
   ]
  },
  {
   "cell_type": "code",
   "execution_count": 87,
   "metadata": {},
   "outputs": [
    {
     "name": "stdout",
     "output_type": "stream",
     "text": [
      "Chevrolet    320\n",
      "Pontiac      150\n",
      "SAAB         114\n",
      "Buick         80\n",
      "Cadillac      80\n",
      "Saturn        60\n",
      "Name: Make, dtype: int64\n",
      "Malibu         60\n",
      "Cavalier       60\n",
      "AVEO           60\n",
      "Ion            50\n",
      "Cobalt         50\n",
      "9_3 HO         40\n",
      "Monte Carlo    30\n",
      "Grand Prix     30\n",
      "Lacrosse       30\n",
      "Deville        30\n",
      "Impala         30\n",
      "9_5            30\n",
      "Bonneville     30\n",
      "Vibe           30\n",
      "Grand Am       20\n",
      "Lesabre        20\n",
      "Park Avenue    20\n",
      "G6             20\n",
      "9_3            20\n",
      "9_5 HO         20\n",
      "Corvette       20\n",
      "Century        10\n",
      "L Series       10\n",
      "GTO            10\n",
      "STS-V8         10\n",
      "STS-V6         10\n",
      "CTS            10\n",
      "CST-V          10\n",
      "Classic        10\n",
      "Sunfire        10\n",
      "XLR-V8         10\n",
      "9-2X AWD        4\n",
      "Name: Model, dtype: int64\n",
      "Sedan          490\n",
      "Coupe          140\n",
      "Wagon           64\n",
      "Hatchback       60\n",
      "Convertible     50\n",
      "Name: Type, dtype: int64\n"
     ]
    }
   ],
   "source": [
    "print(df.Make.value_counts())\n",
    "print(df.Model.value_counts())\n",
    "print(df.Type.value_counts())"
   ]
  },
  {
   "cell_type": "code",
   "execution_count": 59,
   "metadata": {},
   "outputs": [],
   "source": [
    "from sklearn.preprocessing import LabelEncoder\n",
    "from sklearn.preprocessing import LabelBinarizer "
   ]
  },
  {
   "cell_type": "code",
   "execution_count": 88,
   "metadata": {},
   "outputs": [
    {
     "name": "stdout",
     "output_type": "stream",
     "text": [
      "9     60\n",
      "24    60\n",
      "5     60\n",
      "12    50\n",
      "20    50\n",
      "2     40\n",
      "14    30\n",
      "3     30\n",
      "6     30\n",
      "22    30\n",
      "19    30\n",
      "18    30\n",
      "25    30\n",
      "30    30\n",
      "26    20\n",
      "1     20\n",
      "13    20\n",
      "17    20\n",
      "4     20\n",
      "23    20\n",
      "15    20\n",
      "8     10\n",
      "7     10\n",
      "31    10\n",
      "10    10\n",
      "11    10\n",
      "16    10\n",
      "21    10\n",
      "27    10\n",
      "28    10\n",
      "29    10\n",
      "0      4\n",
      "Name: Model, dtype: int64\n"
     ]
    }
   ],
   "source": [
    "le=LabelEncoder()\n",
    "df['Model']=le.fit_transform(df[\"Model\"])\n",
    "print(df.Model.value_counts())"
   ]
  },
  {
   "cell_type": "code",
   "execution_count": 61,
   "metadata": {},
   "outputs": [
    {
     "name": "stdout",
     "output_type": "stream",
     "text": [
      "2    320\n",
      "3    150\n",
      "4    114\n",
      "1     80\n",
      "0     80\n",
      "5     60\n",
      "Name: Make, dtype: int64\n"
     ]
    }
   ],
   "source": [
    "df['Make']=le.fit_transform(df[\"Make\"])\n",
    "print(df.Make.value_counts())"
   ]
  },
  {
   "cell_type": "code",
   "execution_count": 30,
   "metadata": {},
   "outputs": [
    {
     "name": "stdout",
     "output_type": "stream",
     "text": [
      "0    754\n",
      "1     50\n",
      "Name: Type, dtype: int64\n"
     ]
    }
   ],
   "source": [
    "lb=LabelBinarizer()\n",
    "df['Type']=lb.fit_transform(df[\"Type\"])\n",
    "print(df.Type.value_counts())"
   ]
  },
  {
   "cell_type": "code",
   "execution_count": 31,
   "metadata": {},
   "outputs": [
    {
     "data": {
      "text/html": [
       "<div>\n",
       "<style scoped>\n",
       "    .dataframe tbody tr th:only-of-type {\n",
       "        vertical-align: middle;\n",
       "    }\n",
       "\n",
       "    .dataframe tbody tr th {\n",
       "        vertical-align: top;\n",
       "    }\n",
       "\n",
       "    .dataframe thead th {\n",
       "        text-align: right;\n",
       "    }\n",
       "</style>\n",
       "<table border=\"1\" class=\"dataframe\">\n",
       "  <thead>\n",
       "    <tr style=\"text-align: right;\">\n",
       "      <th></th>\n",
       "      <th>Price</th>\n",
       "      <th>Mileage</th>\n",
       "      <th>Make</th>\n",
       "      <th>Model</th>\n",
       "      <th>Type</th>\n",
       "      <th>Cylinder</th>\n",
       "      <th>Liter</th>\n",
       "      <th>Doors</th>\n",
       "      <th>Cruise</th>\n",
       "      <th>Sound</th>\n",
       "      <th>Leather</th>\n",
       "    </tr>\n",
       "  </thead>\n",
       "  <tbody>\n",
       "    <tr>\n",
       "      <th>Price</th>\n",
       "      <td>1.000000</td>\n",
       "      <td>-0.143051</td>\n",
       "      <td>-0.131644</td>\n",
       "      <td>-0.026599</td>\n",
       "      <td>0.508018</td>\n",
       "      <td>0.569086</td>\n",
       "      <td>0.558146</td>\n",
       "      <td>-0.138750</td>\n",
       "      <td>0.430851</td>\n",
       "      <td>-0.124348</td>\n",
       "      <td>0.157197</td>\n",
       "    </tr>\n",
       "    <tr>\n",
       "      <th>Mileage</th>\n",
       "      <td>-0.143051</td>\n",
       "      <td>1.000000</td>\n",
       "      <td>0.028632</td>\n",
       "      <td>-0.026810</td>\n",
       "      <td>0.027436</td>\n",
       "      <td>-0.029461</td>\n",
       "      <td>-0.018641</td>\n",
       "      <td>-0.016944</td>\n",
       "      <td>0.025037</td>\n",
       "      <td>-0.026146</td>\n",
       "      <td>0.001005</td>\n",
       "    </tr>\n",
       "    <tr>\n",
       "      <th>Make</th>\n",
       "      <td>-0.131644</td>\n",
       "      <td>0.028632</td>\n",
       "      <td>1.000000</td>\n",
       "      <td>-0.295619</td>\n",
       "      <td>0.117119</td>\n",
       "      <td>-0.474727</td>\n",
       "      <td>-0.421690</td>\n",
       "      <td>-0.142858</td>\n",
       "      <td>-0.124232</td>\n",
       "      <td>-0.124200</td>\n",
       "      <td>-0.065295</td>\n",
       "    </tr>\n",
       "    <tr>\n",
       "      <th>Model</th>\n",
       "      <td>-0.026599</td>\n",
       "      <td>-0.026810</td>\n",
       "      <td>-0.295619</td>\n",
       "      <td>1.000000</td>\n",
       "      <td>-0.149113</td>\n",
       "      <td>0.359248</td>\n",
       "      <td>0.347102</td>\n",
       "      <td>-0.027162</td>\n",
       "      <td>-0.088165</td>\n",
       "      <td>0.022747</td>\n",
       "      <td>-0.082459</td>\n",
       "    </tr>\n",
       "    <tr>\n",
       "      <th>Type</th>\n",
       "      <td>0.508018</td>\n",
       "      <td>0.027436</td>\n",
       "      <td>0.117119</td>\n",
       "      <td>-0.149113</td>\n",
       "      <td>1.000000</td>\n",
       "      <td>0.061533</td>\n",
       "      <td>0.065886</td>\n",
       "      <td>-0.462921</td>\n",
       "      <td>0.147689</td>\n",
       "      <td>-0.043637</td>\n",
       "      <td>0.009285</td>\n",
       "    </tr>\n",
       "    <tr>\n",
       "      <th>Cylinder</th>\n",
       "      <td>0.569086</td>\n",
       "      <td>-0.029461</td>\n",
       "      <td>-0.474727</td>\n",
       "      <td>0.359248</td>\n",
       "      <td>0.061533</td>\n",
       "      <td>1.000000</td>\n",
       "      <td>0.957897</td>\n",
       "      <td>0.002206</td>\n",
       "      <td>0.354285</td>\n",
       "      <td>-0.089704</td>\n",
       "      <td>0.075520</td>\n",
       "    </tr>\n",
       "    <tr>\n",
       "      <th>Liter</th>\n",
       "      <td>0.558146</td>\n",
       "      <td>-0.018641</td>\n",
       "      <td>-0.421690</td>\n",
       "      <td>0.347102</td>\n",
       "      <td>0.065886</td>\n",
       "      <td>0.957897</td>\n",
       "      <td>1.000000</td>\n",
       "      <td>-0.079259</td>\n",
       "      <td>0.377509</td>\n",
       "      <td>-0.065527</td>\n",
       "      <td>0.087332</td>\n",
       "    </tr>\n",
       "    <tr>\n",
       "      <th>Doors</th>\n",
       "      <td>-0.138750</td>\n",
       "      <td>-0.016944</td>\n",
       "      <td>-0.142858</td>\n",
       "      <td>-0.027162</td>\n",
       "      <td>-0.462921</td>\n",
       "      <td>0.002206</td>\n",
       "      <td>-0.079259</td>\n",
       "      <td>1.000000</td>\n",
       "      <td>-0.047674</td>\n",
       "      <td>-0.062530</td>\n",
       "      <td>-0.061969</td>\n",
       "    </tr>\n",
       "    <tr>\n",
       "      <th>Cruise</th>\n",
       "      <td>0.430851</td>\n",
       "      <td>0.025037</td>\n",
       "      <td>-0.124232</td>\n",
       "      <td>-0.088165</td>\n",
       "      <td>0.147689</td>\n",
       "      <td>0.354285</td>\n",
       "      <td>0.377509</td>\n",
       "      <td>-0.047674</td>\n",
       "      <td>1.000000</td>\n",
       "      <td>-0.091730</td>\n",
       "      <td>-0.070573</td>\n",
       "    </tr>\n",
       "    <tr>\n",
       "      <th>Sound</th>\n",
       "      <td>-0.124348</td>\n",
       "      <td>-0.026146</td>\n",
       "      <td>-0.124200</td>\n",
       "      <td>0.022747</td>\n",
       "      <td>-0.043637</td>\n",
       "      <td>-0.089704</td>\n",
       "      <td>-0.065527</td>\n",
       "      <td>-0.062530</td>\n",
       "      <td>-0.091730</td>\n",
       "      <td>1.000000</td>\n",
       "      <td>0.165444</td>\n",
       "    </tr>\n",
       "    <tr>\n",
       "      <th>Leather</th>\n",
       "      <td>0.157197</td>\n",
       "      <td>0.001005</td>\n",
       "      <td>-0.065295</td>\n",
       "      <td>-0.082459</td>\n",
       "      <td>0.009285</td>\n",
       "      <td>0.075520</td>\n",
       "      <td>0.087332</td>\n",
       "      <td>-0.061969</td>\n",
       "      <td>-0.070573</td>\n",
       "      <td>0.165444</td>\n",
       "      <td>1.000000</td>\n",
       "    </tr>\n",
       "  </tbody>\n",
       "</table>\n",
       "</div>"
      ],
      "text/plain": [
       "             Price   Mileage      Make     Model      Type  Cylinder  \\\n",
       "Price     1.000000 -0.143051 -0.131644 -0.026599  0.508018  0.569086   \n",
       "Mileage  -0.143051  1.000000  0.028632 -0.026810  0.027436 -0.029461   \n",
       "Make     -0.131644  0.028632  1.000000 -0.295619  0.117119 -0.474727   \n",
       "Model    -0.026599 -0.026810 -0.295619  1.000000 -0.149113  0.359248   \n",
       "Type      0.508018  0.027436  0.117119 -0.149113  1.000000  0.061533   \n",
       "Cylinder  0.569086 -0.029461 -0.474727  0.359248  0.061533  1.000000   \n",
       "Liter     0.558146 -0.018641 -0.421690  0.347102  0.065886  0.957897   \n",
       "Doors    -0.138750 -0.016944 -0.142858 -0.027162 -0.462921  0.002206   \n",
       "Cruise    0.430851  0.025037 -0.124232 -0.088165  0.147689  0.354285   \n",
       "Sound    -0.124348 -0.026146 -0.124200  0.022747 -0.043637 -0.089704   \n",
       "Leather   0.157197  0.001005 -0.065295 -0.082459  0.009285  0.075520   \n",
       "\n",
       "             Liter     Doors    Cruise     Sound   Leather  \n",
       "Price     0.558146 -0.138750  0.430851 -0.124348  0.157197  \n",
       "Mileage  -0.018641 -0.016944  0.025037 -0.026146  0.001005  \n",
       "Make     -0.421690 -0.142858 -0.124232 -0.124200 -0.065295  \n",
       "Model     0.347102 -0.027162 -0.088165  0.022747 -0.082459  \n",
       "Type      0.065886 -0.462921  0.147689 -0.043637  0.009285  \n",
       "Cylinder  0.957897  0.002206  0.354285 -0.089704  0.075520  \n",
       "Liter     1.000000 -0.079259  0.377509 -0.065527  0.087332  \n",
       "Doors    -0.079259  1.000000 -0.047674 -0.062530 -0.061969  \n",
       "Cruise    0.377509 -0.047674  1.000000 -0.091730 -0.070573  \n",
       "Sound    -0.065527 -0.062530 -0.091730  1.000000  0.165444  \n",
       "Leather   0.087332 -0.061969 -0.070573  0.165444  1.000000  "
      ]
     },
     "execution_count": 31,
     "metadata": {},
     "output_type": "execute_result"
    }
   ],
   "source": [
    "\n",
    "df.corr()\n"
   ]
  },
  {
   "cell_type": "code",
   "execution_count": 89,
   "metadata": {},
   "outputs": [
    {
     "name": "stdout",
     "output_type": "stream",
     "text": [
      "Cylinder    0.569086\n",
      "Liter       0.558146\n",
      "Cruise      0.430851\n",
      "Name: Price, dtype: float64\n"
     ]
    }
   ],
   "source": [
    "## 2. Find the combination of the factors that is the best predictor for price.\n",
    "\n",
    "corr = df.corr()[\"Price\"].sort_values(ascending=False)[1:]\n",
    "abs_corr = abs(corr)\n",
    "relevant_features = abs_corr[abs_corr>0.4]\n",
    "print(relevant_features)\n"
   ]
  }
 ],
 "metadata": {
  "kernelspec": {
   "display_name": "Python 3",
   "language": "python",
   "name": "python3"
  },
  "language_info": {
   "codemirror_mode": {
    "name": "ipython",
    "version": 3
   },
   "file_extension": ".py",
   "mimetype": "text/x-python",
   "name": "python",
   "nbconvert_exporter": "python",
   "pygments_lexer": "ipython3",
   "version": "3.8.5"
  }
 },
 "nbformat": 4,
 "nbformat_minor": 1
}
